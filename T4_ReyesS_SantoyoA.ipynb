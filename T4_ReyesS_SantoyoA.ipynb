{
<<<<<<< refs/remotes/andresssp23/Andres
 "cells": [
  {
   "cell_type": "code",
   "execution_count": null,
   "id": "2410d043",
   "metadata": {},
   "outputs": [],
   "source": []
  }
 ],
 "metadata": {
  "kernelspec": {
   "display_name": "Python 3 (ipykernel)",
   "language": "python",
   "name": "python3"
  },
  "language_info": {
   "codemirror_mode": {
    "name": "ipython",
    "version": 3
   },
   "file_extension": ".py",
   "mimetype": "text/x-python",
   "name": "python",
   "nbconvert_exporter": "python",
   "pygments_lexer": "ipython3",
   "version": "3.11.4"
  }
 },
=======
 "cells": [],
 "metadata": {},
>>>>>>> Creación de Notebook
 "nbformat": 4,
 "nbformat_minor": 5
}
