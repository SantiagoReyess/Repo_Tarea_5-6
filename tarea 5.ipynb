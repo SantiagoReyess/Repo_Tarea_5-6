{
 "cells": [
  {
   "cell_type": "code",
   "execution_count": 10,
   "metadata": {},
   "outputs": [],
   "source": [
    "#se define la funcion montecarlo1\n",
    "def montecarlo1(f, a, b, N):\n",
    "    #genera N puntos uniformemente distribuidos en el intervalo [a, b)\n",
    "    ui=np.random.uniform(a,b,N)\n",
    "    #evaluar la funcion en los N puntos aleatorios, obtener el promedio y multiplicarlo por el int\n",
    "    integral=((b-a)/N)*np.sum(f(ui))\n",
    "    #integral=(b-a)*np.mean(f(ui)) #esta ecuacion es equivalente a la de arriba\n",
    "    return integral"
   ]
  },
  {
   "cell_type": "code",
   "execution_count": 11,
   "metadata": {},
   "outputs": [],
   "source": [
    "#se definen las dos funciones de Tarea 5\n",
    "def f1(x):\n",
    "    return np.log10(2*x)+8**x\n",
    "def f2(x):\n",
    "    return 2**x/x**4"
   ]
  },
  {
   "cell_type": "code",
   "execution_count": 12,
   "metadata": {},
   "outputs": [],
   "source": [
    "#se definen los limites de la integracion\n",
    "a,b=1, 5\n"
   ]
  },
  {
   "cell_type": "code",
   "execution_count": 2,
   "metadata": {},
   "outputs": [
    {
     "ename": "NameError",
     "evalue": "name 'np' is not defined",
     "output_type": "error",
     "traceback": [
      "\u001b[1;31m---------------------------------------------------------------------------\u001b[0m",
      "\u001b[1;31mNameError\u001b[0m                                 Traceback (most recent call last)",
      "Cell \u001b[1;32mIn[2], line 2\u001b[0m\n\u001b[0;32m      1\u001b[0m \u001b[38;5;66;03m#se definen las cantidas de terminos 10, 100, 1000, 10000, 100000\u001b[39;00m\n\u001b[1;32m----> 2\u001b[0m N\u001b[38;5;241m=\u001b[39mnp\u001b[38;5;241m.\u001b[39mlogspace(\u001b[38;5;241m1\u001b[39m,\u001b[38;5;241m5\u001b[39m,\u001b[38;5;241m5\u001b[39m)\u001b[38;5;241m.\u001b[39mastype(\u001b[38;5;28mint\u001b[39m)\n",
      "\u001b[1;31mNameError\u001b[0m: name 'np' is not defined"
     ]
    }
   ],
   "source": [
    "#se definen las cantidas de terminos 10, 100, 1000, 10000, 100000\n",
    "N=np.logspace(1,5,5).astype(int)\n"
   ]
  },
  {
   "cell_type": "code",
   "execution_count": 1,
   "metadata": {},
   "outputs": [
    {
     "ename": "NameError",
     "evalue": "name 'pd' is not defined",
     "output_type": "error",
     "traceback": [
      "\u001b[1;31m---------------------------------------------------------------------------\u001b[0m",
      "\u001b[1;31mNameError\u001b[0m                                 Traceback (most recent call last)",
      "Cell \u001b[1;32mIn[1], line 2\u001b[0m\n\u001b[0;32m      1\u001b[0m \u001b[38;5;66;03m#se crea el DataFrame de pandas (tabla) que contendra la informacion\u001b[39;00m\n\u001b[1;32m----> 2\u001b[0m tabla \u001b[38;5;241m=\u001b[39m pd\u001b[38;5;241m.\u001b[39mDataFrame(index\u001b[38;5;241m=\u001b[39mN, columns\u001b[38;5;241m=\u001b[39m[\u001b[38;5;124m'\u001b[39m\u001b[38;5;124mAprox f1\u001b[39m\u001b[38;5;124m'\u001b[39m,\u001b[38;5;124m'\u001b[39m\u001b[38;5;124mAprox f2\u001b[39m\u001b[38;5;124m'\u001b[39m])\n\u001b[0;32m      4\u001b[0m \u001b[38;5;66;03m#se agrega nombre al indice para que aparezca en la tabla\u001b[39;00m\n\u001b[0;32m      5\u001b[0m tabla\u001b[38;5;241m.\u001b[39mindex\u001b[38;5;241m.\u001b[39mname \u001b[38;5;241m=\u001b[39m \u001b[38;5;124m'\u001b[39m\u001b[38;5;124mcantidad de terminos\u001b[39m\u001b[38;5;124m'\u001b[39m\n",
      "\u001b[1;31mNameError\u001b[0m: name 'pd' is not defined"
     ]
    }
   ],
   "source": [
    "#se crea el DataFrame de pandas (tabla) que contendra la informacion\n",
    "tabla = pd.DataFrame(index=N, columns=['Aprox f1','Aprox f2'])\n",
    "\n",
    "#se agrega nombre al indice para que aparezca en la tabla\n",
    "tabla.index.name = 'cantidad de terminos'\n",
    "\n",
    "#rellenar las celdas de la aproximacion de cada funcion\n",
    "for n in N:\n",
    "    aprox_f1= montecarlo1(f1, a, b, n)\n",
    "    aprox_f2= montecarlo1(f2, a, b, n)\n",
    "    \n",
    "    tabla.loc[n, 'Aprox f1']=aprox_f1\n",
    "    tabla.loc[n, 'Aprox f2']=aprox_f2\n",
    " \n",
    "#se muestra la tabla\n",
    "tabla\n",
    "    "
   ]
  },
  {
   "cell_type": "code",
   "execution_count": null,
   "metadata": {},
   "outputs": [],
   "source": []
  }
 ],
 "metadata": {
  "kernelspec": {
   "display_name": "Python 3 (ipykernel)",
   "language": "python",
   "name": "python3"
  },
  "language_info": {
   "codemirror_mode": {
    "name": "ipython",
    "version": 3
   },
   "file_extension": ".py",
   "mimetype": "text/x-python",
   "name": "python",
   "nbconvert_exporter": "python",
   "pygments_lexer": "ipython3",
   "version": "3.11.4"
  }
 },
 "nbformat": 4,
 "nbformat_minor": 4
}
