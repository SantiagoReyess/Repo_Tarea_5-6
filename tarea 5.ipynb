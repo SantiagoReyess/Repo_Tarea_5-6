{
 "cells": [
  {
   "cell_type": "code",
   "execution_count": 8,
   "metadata": {},
   "outputs": [],
   "source": [
    "#se importan las librerias\n",
    "import numpy as np\n",
    "import matplotlib.pyplot as plt\n",
    "import pandas as pd"
   ]
  },
  {
   "cell_type": "code",
   "execution_count": 9,
   "metadata": {},
   "outputs": [],
   "source": [
    "#se define la funcion montecarlo1\n",
    "def montecarlo1(f, a, b, N):\n",
    "    #genera N puntos uniformemente distribuidos en el intervalo [a, b)\n",
    "    ui=np.random.uniform(a,b,N)\n",
    "    #evaluar la funcion en los N puntos aleatorios, obtener el promedio y multiplicarlo por el int\n",
    "    integral=((b-a)/N)*np.sum(f(ui))\n",
    "    #integral=(b-a)*np.mean(f(ui)) #esta ecuacion es equivalente a la de arriba\n",
    "    return integral"
   ]
  },
  {
   "cell_type": "code",
   "execution_count": 10,
   "metadata": {},
   "outputs": [],
   "source": [
    "#se definen las dos funciones de Tarea 5\n",
    "def f1(x):\n",
    "    return np.log10(2*x)+8**x\n",
    "def f2(x):\n",
    "    return 2**x/x**4"
   ]
  },
  {
   "cell_type": "code",
   "execution_count": 11,
   "metadata": {},
   "outputs": [],
   "source": [
    "#se definen los limites de la integracion\n",
    "a,b=1, 5\n"
   ]
  },
  {
   "cell_type": "code",
   "execution_count": 12,
   "metadata": {},
   "outputs": [],
   "source": [
    "#se definen las cantidas de terminos 10, 100, 1000, 10000, 100000\n",
    "N=np.logspace(1,5,5).astype(int)\n"
   ]
  },
  {
   "cell_type": "code",
   "execution_count": 13,
   "metadata": {},
   "outputs": [
    {
     "data": {
      "text/html": [
       "<div>\n",
       "<style scoped>\n",
       "    .dataframe tbody tr th:only-of-type {\n",
       "        vertical-align: middle;\n",
       "    }\n",
       "\n",
       "    .dataframe tbody tr th {\n",
       "        vertical-align: top;\n",
       "    }\n",
       "\n",
       "    .dataframe thead th {\n",
       "        text-align: right;\n",
       "    }\n",
       "</style>\n",
       "<table border=\"1\" class=\"dataframe\">\n",
       "  <thead>\n",
       "    <tr style=\"text-align: right;\">\n",
       "      <th></th>\n",
       "      <th>Aprox f1</th>\n",
       "      <th>Aprox f2</th>\n",
       "    </tr>\n",
       "    <tr>\n",
       "      <th>cantidad de terminos</th>\n",
       "      <th></th>\n",
       "      <th></th>\n",
       "    </tr>\n",
       "  </thead>\n",
       "  <tbody>\n",
       "    <tr>\n",
       "      <th>10</th>\n",
       "      <td>10968.074501</td>\n",
       "      <td>1.278389</td>\n",
       "    </tr>\n",
       "    <tr>\n",
       "      <th>100</th>\n",
       "      <td>16182.123626</td>\n",
       "      <td>1.091214</td>\n",
       "    </tr>\n",
       "    <tr>\n",
       "      <th>1000</th>\n",
       "      <td>17065.20504</td>\n",
       "      <td>0.9778</td>\n",
       "    </tr>\n",
       "    <tr>\n",
       "      <th>10000</th>\n",
       "      <td>15968.608432</td>\n",
       "      <td>1.032898</td>\n",
       "    </tr>\n",
       "    <tr>\n",
       "      <th>100000</th>\n",
       "      <td>15848.291966</td>\n",
       "      <td>1.00534</td>\n",
       "    </tr>\n",
       "  </tbody>\n",
       "</table>\n",
       "</div>"
      ],
      "text/plain": [
       "                          Aprox f1  Aprox f2\n",
       "cantidad de terminos                        \n",
       "10                    10968.074501  1.278389\n",
       "100                   16182.123626  1.091214\n",
       "1000                   17065.20504    0.9778\n",
       "10000                 15968.608432  1.032898\n",
       "100000                15848.291966   1.00534"
      ]
     },
     "execution_count": 13,
     "metadata": {},
     "output_type": "execute_result"
    }
   ],
   "source": [
    "#se crea el DataFrame de pandas (tabla) que contendra la informacion\n",
    "tabla = pd.DataFrame(index=N, columns=['Aprox f1','Aprox f2'])\n",
    "\n",
    "#se agrega nombre al indice para que aparezca en la tabla\n",
    "tabla.index.name = 'cantidad de terminos'\n",
    "\n",
    "#rellenar las celdas de la aproximacion de cada funcion\n",
    "for n in N:\n",
    "    aprox_f1= montecarlo1(f1, a, b, n)\n",
    "    aprox_f2= montecarlo1(f2, a, b, n)\n",
    "    \n",
    "    tabla.loc[n, 'Aprox f1']=aprox_f1\n",
    "    tabla.loc[n, 'Aprox f2']=aprox_f2\n",
    " \n",
    "#se muestra la tabla\n",
    "tabla\n",
    "    "
   ]
  },
  {
   "cell_type": "code",
   "execution_count": null,
   "metadata": {},
   "outputs": [],
   "source": []
  }
 ],
 "metadata": {
  "kernelspec": {
   "display_name": "Python 3 (ipykernel)",
   "language": "python",
   "name": "python3"
  },
  "language_info": {
   "codemirror_mode": {
    "name": "ipython",
    "version": 3
   },
   "file_extension": ".py",
   "mimetype": "text/x-python",
   "name": "python",
   "nbconvert_exporter": "python",
   "pygments_lexer": "ipython3",
   "version": "3.11.4"
  }
 },
 "nbformat": 4,
 "nbformat_minor": 4
}
